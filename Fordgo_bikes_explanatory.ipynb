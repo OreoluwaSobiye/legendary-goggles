{
 "cells": [
  {
   "cell_type": "markdown",
   "metadata": {
    "slideshow": {
     "slide_type": "slide"
    }
   },
   "source": [
    "#  Fordgo Bike Trip Data Exploration\n",
    "## by Oreoluwa Sobiye"
   ]
  },
  {
   "cell_type": "markdown",
   "metadata": {
    "slideshow": {
     "slide_type": "slide"
    }
   },
   "source": [
    "\n",
    "## Investigation Overview\n",
    "\n",
    "\n",
    "> This investigation shows the characteristics of bikers in the San Fransico Bay Area. The main focus will be the age, user type and gender of bikers in the area.\n",
    "\n",
    "#### Questions that can be answered after this presentation\n",
    "- What user_type take the most bike trip?\n",
    "- What is the distribution of the age of bikers?\n",
    "- What gender is most likely to take more bike trips?\n",
    "\n",
    "\n",
    "\n",
    "## Dataset Overview\n",
    "\n",
    "> This data cotains information about individual rides made in a bike-sharing system covering the greater San Francisco Bay area.\n",
    "\n",
    "> The data is made up of 183412 observations and 16 fields. Each field is made up of different data types. The fields available in the dataset includes; duration_sec, start_time,end_time, start_station_id, start_station_name, start_station_latitude,  start_station_longitude, end_station_id,end_start_name, end_start_latitude, end_station_longitude, bike_share_for_all. \n",
    "\n"
   ]
  },
  {
   "cell_type": "code",
   "execution_count": 1,
   "metadata": {
    "slideshow": {
     "slide_type": "skip"
    }
   },
   "outputs": [],
   "source": [
    "# import all packages and set plots to be embedded inline\n",
    "import numpy as np\n",
    "import pandas as pd\n",
    "import matplotlib.pyplot as plt\n",
    "import seaborn as sb\n",
    "\n",
    "%matplotlib inline\n",
    "\n",
    "# suppress warnings from final output\n",
    "import warnings\n",
    "warnings.simplefilter(\"ignore\")"
   ]
  },
  {
   "cell_type": "code",
   "execution_count": 2,
   "metadata": {
    "slideshow": {
     "slide_type": "skip"
    }
   },
   "outputs": [],
   "source": [
    "# load in the dataset into a pandas dataframe\n",
    "df = pd.read_csv('201902-fordgobike-tripdata.csv')\n",
    "\n",
    "#creating a copy of the data.\n",
    "bike = df.copy()"
   ]
  },
  {
   "cell_type": "code",
   "execution_count": 3,
   "metadata": {
    "slideshow": {
     "slide_type": "skip"
    }
   },
   "outputs": [
    {
     "data": {
      "text/plain": [
       "0         38\n",
       "1         37\n",
       "2         50\n",
       "3         33\n",
       "4         48\n",
       "5         63\n",
       "6         39\n",
       "7         33\n",
       "8         34\n",
       "9         30\n",
       "10        26\n",
       "11        29\n",
       "12        32\n",
       "13        37\n",
       "14        34\n",
       "15        29\n",
       "16        41\n",
       "17        47\n",
       "18        32\n",
       "19        44\n",
       "20        39\n",
       "21        38\n",
       "22        31\n",
       "23        25\n",
       "24        47\n",
       "25        36\n",
       "26        22\n",
       "27        40\n",
       "28        37\n",
       "29        27\n",
       "          ..\n",
       "183382    34\n",
       "183383    25\n",
       "183384    31\n",
       "183385    77\n",
       "183386    24\n",
       "183387    23\n",
       "183388    95\n",
       "183389    37\n",
       "183390    23\n",
       "183391    42\n",
       "183392    29\n",
       "183393    37\n",
       "183394    47\n",
       "183395    29\n",
       "183396    31\n",
       "183397    34\n",
       "183398    40\n",
       "183399    29\n",
       "183400    38\n",
       "183401    31\n",
       "183402    37\n",
       "183403    22\n",
       "183404    42\n",
       "183405    38\n",
       "183406    34\n",
       "183407    26\n",
       "183408    38\n",
       "183409    32\n",
       "183410    34\n",
       "183411    33\n",
       "Name: age, Length: 183412, dtype: int64"
      ]
     },
     "execution_count": 3,
     "metadata": {},
     "output_type": "execute_result"
    }
   ],
   "source": [
    "# fill null rows in member_birth_year col with average age\n",
    "mean_value = bike['member_birth_year'].mean()\n",
    "bike['member_birth_year'].fillna(value = mean_value, inplace = True)\n",
    "\n",
    "bike['age'] = 2022 - bike['member_birth_year']\n",
    "bike['age'].astype('int')"
   ]
  },
  {
   "cell_type": "markdown",
   "metadata": {
    "slideshow": {
     "slide_type": "notes"
    }
   },
   "source": [
    "> Note that the above cells have been set as \"Skip\"-type slides. That means\n",
    "that when the notebook is rendered as http slides, those cells won't show up."
   ]
  },
  {
   "cell_type": "markdown",
   "metadata": {
    "slideshow": {
     "slide_type": "slide"
    }
   },
   "source": [
    "## Distribution of Age.\n",
    "\n",
    "The age distribution is rightly skewed showing a positive distribution. \n",
    "\n",
    "Most bikers fall with the age range 30- 40 years of age. The data also show that a very few number of bikers are above 60 years of age. The youngest bikers are 21years of ag.\n"
   ]
  },
  {
   "cell_type": "code",
   "execution_count": 4,
   "metadata": {
    "slideshow": {
     "slide_type": "subslide"
    }
   },
   "outputs": [
    {
     "data": {
      "image/png": "[encoded data removed]",
      "text/plain": [
       "<matplotlib.figure.Figure at 0x7f908d41bf28>"
      ]
     },
     "metadata": {
      "needs_background": "light"
     },
     "output_type": "display_data"
    }
   ],
   "source": [
    "plt.figure(figsize = (8,8))\n",
    "plt.hist(data  = bike, x = 'age', bins = 50)\n",
    "plt.xlabel('Age')\n",
    "plt.ylabel('Count')\n",
    "plt.title('Age distribution of bikers in San Francisco Bay area')\n",
    "plt.show()"
   ]
  },
  {
   "cell_type": "markdown",
   "metadata": {
    "collapsed": true,
    "slideshow": {
     "slide_type": "slide"
    }
   },
   "source": [
    "## Age distribution of User type.\n",
    "The age distribution of user type is shown in the plot. There is an unusal distribution of the age among user types. \n",
    "In customer user type 50 percent of the bikers are 38-39 years of age while in the suscriber user type 50 percent of the bikers are 37-38 years of age.\n",
    "\n",
    "The dotted lines show outliers, meaning irregular distribution of age."
   ]
  },
  {
   "cell_type": "code",
   "execution_count": 5,
   "metadata": {
    "slideshow": {
     "slide_type": "subslide"
    }
   },
   "outputs": [
    {
     "data": {
      "image/png": "[encoded data removed]",
      "text/plain": [
       "<matplotlib.figure.Figure at 0x7f90be2e2898>"
      ]
     },
     "metadata": {
      "needs_background": "light"
     },
     "output_type": "display_data"
    }
   ],
   "source": [
    "plt.figure(figsize = (8,10))\n",
    "sb.boxplot(x = 'user_type', y = 'age', data= bike)\n",
    "plt.title('Age distribution of User type')\n",
    "plt.show()"
   ]
  },
  {
   "cell_type": "markdown",
   "metadata": {
    "slideshow": {
     "slide_type": "slide"
    }
   },
   "source": [
    "## Count of User Type\n",
    "\n",
    "The plot shows the number of Customers to Suscribers that go on bike trips. The total number of customers that ride is 19868 in total while the total number of suscribers is 163544. \n",
    "Statistically speaking more than 80 percent of bike trips are taken by suscribers than customers.\n"
   ]
  },
  {
   "cell_type": "code",
   "execution_count": 6,
   "metadata": {
    "slideshow": {
     "slide_type": "subslide"
    }
   },
   "outputs": [
    {
     "data": {
      "image/png": "[encoded data removed]",
      "text/plain": [
       "<matplotlib.figure.Figure at 0x7f908bf68b00>"
      ]
     },
     "metadata": {
      "needs_background": "light"
     },
     "output_type": "display_data"
    },
    {
     "data": {
      "text/plain": [
       "Subscriber    163544\n",
       "Customer       19868\n",
       "Name: user_type, dtype: int64"
      ]
     },
     "execution_count": 6,
     "metadata": {},
     "output_type": "execute_result"
    }
   ],
   "source": [
    "# count of usertype\n",
    "plt.figure(figsize = (8,8))\n",
    "sb.countplot(data = bike, x = 'user_type')\n",
    "plt.xlabel('User_type')\n",
    "plt.title('Count of Customers to Suscribers that take bike trips')\n",
    "plt.show()\n",
    "\n",
    "bike['user_type'].value_counts()"
   ]
  },
  {
   "cell_type": "markdown",
   "metadata": {
    "slideshow": {
     "slide_type": "slide"
    }
   },
   "source": [
    "## User type and Gender\n",
    "In the analysis above it was shown that bike trips are taken mostly by suscribers than customers. In this plot we will be looking at the distribution of gender in each user type.\n",
    "\n",
    "The Male gender take more bike trips than other genders, this was explored in earlier analysis. In each user type, the male gender is seen as the gender with the highest count of bike trips. In both User type cases more more than 50 percent of the total count are males."
   ]
  },
  {
   "cell_type": "code",
   "execution_count": 7,
   "metadata": {
    "slideshow": {
     "slide_type": "subslide"
    }
   },
   "outputs": [
    {
     "data": {
      "image/png": "[encoded data removed]",
      "text/plain": [
       "<matplotlib.figure.Figure at 0x7f908bedc9b0>"
      ]
     },
     "metadata": {
      "needs_background": "light"
     },
     "output_type": "display_data"
    }
   ],
   "source": [
    "# bar chart showing the number of member_gender that are suscribers or customers\n",
    "plt.figure(figsize =(10,8))\n",
    "sb.countplot(data = bike, x = 'user_type', hue = 'member_gender', hue_order = ['Male','Female','Other'])\n",
    "plt.title('Number of gender per User type')\n",
    "plt.show()\n"
   ]
  },
  {
   "cell_type": "code",
   "execution_count": null,
   "metadata": {
    "slideshow": {
     "slide_type": "skip"
    }
   },
   "outputs": [
    {
     "name": "stdout",
     "output_type": "stream",
     "text": [
      "[NbConvertApp] Converting notebook Part_II_slide_deck_template.ipynb to slides\n",
      "[NbConvertApp] Writing 347637 bytes to Part_II_slide_deck_template.slides.html\n",
      "[NbConvertApp] Redirecting reveal.js requests to https://cdnjs.cloudflare.com/ajax/libs/reveal.js/3.5.0\n",
      "Serving your slides at http://127.0.0.1:8000/Part_II_slide_deck_template.slides.html\n",
      "Use Control-C to stop this server\n",
      "/usr/bin/xdg-open: 778: /usr/bin/xdg-open: x-www-browser: not found\n",
      "/usr/bin/xdg-open: 778: /usr/bin/xdg-open: firefox: not found\n",
      "/usr/bin/xdg-open: 778: /usr/bin/xdg-open: iceweasel: not found\n",
      "/usr/bin/xdg-open: 778: /usr/bin/xdg-open: seamonkey: not found\n",
      "/usr/bin/xdg-open: 778: /usr/bin/xdg-open: mozilla: not found\n",
      "/usr/bin/xdg-open: 778: /usr/bin/xdg-open: epiphany: not found\n",
      "/usr/bin/xdg-open: 778: /usr/bin/xdg-open: konqueror: not found\n",
      "/usr/bin/xdg-open: 778: /usr/bin/xdg-open: chromium-browser: not found\n",
      "/usr/bin/xdg-open: 778: /usr/bin/xdg-open: google-chrome: not found\n",
      "/usr/bin/xdg-open: 778: /usr/bin/xdg-open: www-browser: not found\n",
      "/usr/bin/xdg-open: 778: /usr/bin/xdg-open: links2: not found\n",
      "/usr/bin/xdg-open: 778: /usr/bin/xdg-open: elinks: not found\n",
      "/usr/bin/xdg-open: 778: /usr/bin/xdg-open: links: not found\n",
      "/usr/bin/xdg-open: 778: /usr/bin/xdg-open: lynx: not found\n",
      "/usr/bin/xdg-open: 778: /usr/bin/xdg-open: w3m: not found\n",
      "xdg-open: no method available for opening 'http://127.0.0.1:8000/Part_II_slide_deck_template.slides.html'\n"
     ]
    }
   ],
   "source": [
    "# Use this command if you are running this file in local\n",
    "!jupyter nbconvert Part_II_slide_deck_template.ipynb --to slides --post serve --no-input --no-prompt"
   ]
  },
  {
   "cell_type": "markdown",
   "metadata": {
    "slideshow": {
     "slide_type": "skip"
    }
   },
   "source": [
    "### Submission\n",
    "If you are using classroom workspace, you can choose from the following two ways of submission:\n",
    "\n",
    "1. **Submit from the workspace**. Make sure you have removed the example project from the /home/workspace directory. You must submit the following files:\n",
    "   - Part_I_notebook.ipynb\n",
    "   - Part_I_notebook.html or pdf\n",
    "   - Part_II_notebook.ipynb\n",
    "   - Part_I_slides.html\n",
    "   - README.md\n",
    "   - dataset (optional)\n",
    "\n",
    "\n",
    "2. **Submit a zip file on the last page of this project lesson**. In this case, open the Jupyter terminal and run the command below to generate a ZIP file. \n",
    "```bash\n",
    "zip -r my_project.zip .\n",
    "```\n",
    "The command abobve will ZIP every file present in your /home/workspace directory. Next, you can download the zip to your local, and follow the instructions on the last page of this project lesson.\n"
   ]
  },
  {
   "cell_type": "code",
   "execution_count": null,
   "metadata": {},
   "outputs": [],
   "source": []
  }
 ],
 "metadata": {
  "celltoolbar": "Slideshow",
  "kernelspec": {
   "display_name": "Python 3",
   "language": "python",
   "name": "python3"
  },
  "language_info": {
   "codemirror_mode": {
    "name": "ipython",
    "version": 3
   },
   "file_extension": ".py",
   "mimetype": "text/x-python",
   "name": "python",
   "nbconvert_exporter": "python",
   "pygments_lexer": "ipython3",
   "version": "3.6.3"
  }
 },
 "nbformat": 4,
 "nbformat_minor": 2
}
